{
 "cells": [
  {
   "cell_type": "markdown",
   "metadata": {
    "slideshow": {
     "slide_type": "slide"
    }
   },
   "source": [
    "# Differential gene expression analysis and population genetics\n",
    "\n",
    "## Masaomi Hatakeyama"
   ]
  },
  {
   "cell_type": "markdown",
   "metadata": {
    "slideshow": {
     "slide_type": "slide"
    }
   },
   "source": [
    "# Practice\n",
    "\n",
    "1. Differential gene expression analysis\n",
    "2. Nucleotide diversity and Tajima's D\n",
    "\n",
    "based on *Arabidopsis kamchatica* sequencing data"
   ]
  },
  {
   "cell_type": "markdown",
   "metadata": {
    "slideshow": {
     "slide_type": "slide"
    }
   },
   "source": [
    "# How to use Jypter notebook\n",
    "\n",
    "- You can run this *cell* by typing CTRL+ENTER or from the menu.\n",
    "    - There are two types of cells: markdown, code\n",
    "- Double click goes into the edit mode\n",
    "- Down arrow key moves onto the next cell\n",
    "- `?` after an object/function for help\n",
    "- *Restart* when stuck\n"
   ]
  },
  {
   "cell_type": "code",
   "execution_count": 1,
   "metadata": {
    "collapsed": false,
    "slideshow": {
     "slide_type": "-"
    }
   },
   "outputs": [
    {
     "name": "stdout",
     "output_type": "stream",
     "text": [
      "[1] \"hello, world\"\n"
     ]
    }
   ],
   "source": [
    "print(\"hello, world\")"
   ]
  },
  {
   "cell_type": "code",
   "execution_count": null,
   "metadata": {
    "collapsed": true,
    "slideshow": {
     "slide_type": "-"
    }
   },
   "outputs": [],
   "source": [
    "plot(sin)"
   ]
  },
  {
   "cell_type": "markdown",
   "metadata": {},
   "source": [
    "You can run the cells out of order, but **variables** are saved."
   ]
  },
  {
   "cell_type": "code",
   "execution_count": null,
   "metadata": {
    "collapsed": true
   },
   "outputs": [],
   "source": [
    "x <- 123"
   ]
  },
  {
   "cell_type": "code",
   "execution_count": null,
   "metadata": {
    "collapsed": false
   },
   "outputs": [],
   "source": [
    "print(x)"
   ]
  },
  {
   "cell_type": "markdown",
   "metadata": {},
   "source": [
    "# Target species\n",
    "\n",
    "- *Arabidopsis kamchatica*\n",
    "    - Allo-tetraploid\n",
    "    - originated from *A. halleri and A. lyrata*\n",
    "\n",
    "- DNA and RNA sequencing (Illumina HiSeq at FGCZ)\n",
    "\n",
    "Reference\n",
    "- Tim Paape, et. al, **Conserved but Attenuated Parental Gene Expression in Allopolyploids: Constitutive Zinc Hyperaccumulation in the Allotetraploid Arabidopsis kamchatica**, *Molecular biology and evolution*,  2016\n",
    "- http://mbe.oxfordjournals.org/content/early/2016/08/31/molbev.msw141.abstract"
   ]
  },
  {
   "cell_type": "markdown",
   "metadata": {},
   "source": [
    "# *Arabidopsis kamchatica*\n",
    "\n",
    "![kamchatica](png/kamchatica1.png)\n"
   ]
  }
 ],
 "metadata": {
  "celltoolbar": "Slideshow",
  "kernelspec": {
   "display_name": "R",
   "language": "R",
   "name": "ir"
  },
  "language_info": {
   "codemirror_mode": "r",
   "file_extension": ".r",
   "mimetype": "text/x-r-source",
   "name": "R",
   "pygments_lexer": "r",
   "version": "3.3.2"
  }
 },
 "nbformat": 4,
 "nbformat_minor": 0
}
